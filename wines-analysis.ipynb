{
 "cells": [
  {
   "cell_type": "code",
   "execution_count": 312,
   "metadata": {},
   "outputs": [],
   "source": [
    "import numpy as np\n",
    "import pandas as pd\n",
    "import matplotlib.pyplot as plt\n",
    "import seaborn as sns\n",
    "import scipy.stats as stats\n",
    "import random\n",
    "# Leemos el dataframe\n",
    "df = pd.read_csv('wines.csv')\n",
    "\n",
    "n = df.shape[0]\n",
    "m = df.shape[1] - 1"
   ]
  },
  {
   "cell_type": "markdown",
   "metadata": {},
   "source": [
    "a) Una recta para predecir la calidad del vino a partir de la característica más relevante (a la que se destinará\n",
    "mayor proporción del presupuesto), respaldada por su prueba de significancia de regresión, coeficiente de\n",
    "determinación y correlación lineal"
   ]
  },
  {
   "cell_type": "markdown",
   "metadata": {},
   "source": [
    "1. Primero debemos conocer la caracteristica mas importante de nuestro dataset.\n",
    "Para esto podemos calcular el coeficiente de correlación lineal r entre cada característica y la calidad, y elegir la que tenga el valor mas cercano a 1 (correlacion positiva)."
   ]
  },
  {
   "cell_type": "markdown",
   "metadata": {},
   "source": [
    "El coeficiente de correlacion lineal tiene la forma:\n",
    "\\begin{equation*}\n",
    "r = \\frac{S_{xy}}{\\sqrt{S_{xx}S_{yy}}}\n",
    "\\end{equation*}\n",
    "\n",
    "\\begin{equation*}\n",
    "S_{xy} = \\sum_{i=1}^{n} (x_i - \\bar{x})(y_i - \\bar{y})\n",
    "\\end{equation*}\n",
    "\n",
    "\\begin{align*}\n",
    "S_{xx} = \\sum_{i=1}^{n} (x_i - \\bar{x})^2 &&\n",
    "S_{yy} = \\sum_{i=1}^{n} (y_i - \\bar{y})^2\n",
    "\\end{align*}"
   ]
  },
  {
   "cell_type": "code",
   "execution_count": 313,
   "metadata": {},
   "outputs": [
    {
     "name": "stdout",
     "output_type": "stream",
     "text": [
      "[-0.09083483972534322, 0.002928638874578764, -0.10482078139910475, -0.16416152703602807, -0.309506186998833, 0.09118441925512218, 0.4366862682799704]\n"
     ]
    }
   ],
   "source": [
    "def coeficiente_correlacion_lineal(x, y):\n",
    "    S_xy = np.sum((x - np.mean(x)) * (y - np.mean(y)))\n",
    "    S_xx = np.sum((x - np.mean(x))**2)\n",
    "    S_yy = np.sum((y - np.mean(y))**2)\n",
    "\n",
    "    r = S_xy / np.sqrt(S_xx * S_yy)\n",
    "    \n",
    "    return r\n",
    "\n",
    "# Calculamos el maximo coeficiente de correlacion lineal entre las variables\n",
    "correlaciones = []\n",
    "max_correlacion = None\n",
    "max_valor_correlacion = -1\n",
    "for i in range(0, m):\n",
    "    correlaciones.append(coeficiente_correlacion_lineal(df['quality'], df.iloc[:, i]))\n",
    "    if correlaciones[i] > max_valor_correlacion:\n",
    "        max_valor_correlacion = correlaciones[i]\n",
    "        max_correlacion = df.columns[i]\n",
    "print(correlaciones)"
   ]
  },
  {
   "cell_type": "markdown",
   "metadata": {},
   "source": [
    "2. calculamos el coeficiente de determinación R2, que representa e interpreta  la proporcion de variacion y observada que puede ser explicada por el modelo de regresion lineal simple\n",
    "Para esto necesitamos los parametros de la recta, que se calculan con el metodo de minimos cuadrados.\n",
    "La ecuación de la recta tendrá la forma\n",
    "\\begin{equation*}\n",
    "    y = \\beta_0 + \\beta_1 x\n",
    "\\end{equation*}\n",
    "donde y es la calidad del vino y x es la característica elegida."
   ]
  },
  {
   "cell_type": "markdown",
   "metadata": {},
   "source": [
    "La estimacion de minimos cuadrados de la interseccion β0 y la pendiente β1 es:\n",
    "\\begin{align*}\n",
    "    \\hat{\\beta_1} = \\frac{S_{xy}}{S_{xx}} &&\n",
    "    \\hat{\\beta_0} = \\bar{y} - \\hat{\\beta_1}\\bar{x}\n",
    "\\end{align*}\n"
   ]
  },
  {
   "cell_type": "code",
   "execution_count": 314,
   "metadata": {},
   "outputs": [],
   "source": [
    "def coeficiente_pendiente(x, y):\n",
    "    S_xy = np.sum((x - x.mean()) * (y - y.mean()))\n",
    "    S_xx = np.sum((x - np.mean(x))**2)\n",
    "\n",
    "    b1 = S_xy / S_xx\n",
    "\n",
    "    return b1\n",
    "\n",
    "def coeficiente_interseccion(x, y):\n",
    "    b1 = coeficiente_pendiente(x, y)\n",
    "    b0 = y.mean() - b1 * x.mean()\n",
    "\n",
    "    return b0"
   ]
  },
  {
   "cell_type": "markdown",
   "metadata": {},
   "source": [
    "El coeficiente de determinacion R2 se calcula como:\n",
    "\\begin{equation*}\n",
    "    R^2 = 1 - \\frac{SCE}{SCT}\n",
    "\\end{equation*}\n",
    "\n",
    "donde SCE es la suma de cuadrados del error y SCT es la suma de cuadrados totales, esta division representa la proporcion de variacion que puede ser explicada y se calculan como:\n",
    "\\begin{align*}\n",
    "    SCE = \\sum_{i=1}^{n} (y_i - \\hat{y_i})^2 &&\n",
    "    SCT = \\sum_{i=1}^{n} (y_i - \\bar{y})^2\n",
    "\\end{align*}"
   ]
  },
  {
   "cell_type": "code",
   "execution_count": 315,
   "metadata": {},
   "outputs": [],
   "source": [
    "def coeficiente_determinacion(y, y_pred):\n",
    "    SCE = np.sum((y - y_pred)**2)\n",
    "    STC = np.sum((y - np.mean(y))**2)\n",
    "\n",
    "    r2 = 1 - (SCE / STC)\n",
    "\n",
    "    return r2\n",
    "\n",
    "# Calculamos el coeficiente de determinacion\n",
    "b0 = coeficiente_interseccion(df[max_correlacion], df['quality'])\n",
    "b1 = coeficiente_pendiente(df[max_correlacion], df['quality'])\n",
    "r2 = coeficiente_determinacion(df['quality'], b0 + b1 * df[max_correlacion])"
   ]
  },
  {
   "cell_type": "markdown",
   "metadata": {},
   "source": [
    "3. Finalmente Para respaldar la significancia de la regresión, podemos realizar un test de hipótesis sobre el parámetro.\n",
    "Podemos o no determinar una relacion significativa\n",
    "entre las variables X y Y al probar si la pendiente B1 es igual a cero.\n",
    "Si se rechaza la hipotesis nula entonces se concluye que existe una relacion significativa entre las variables X y Y\n",
    "\n",
    "\\begin{align*}\n",
    "    H_0: \\beta_1 = 0\\\n",
    "    H_1: \\beta_1 \\neq 0\n",
    "\\end{align*}\n",
    "\n",
    "Para esto calculamos el estadistico de prueba t, que tiene la forma:\n",
    "\\begin{equation*}\n",
    "    t = \\frac{\\beta_1}{\\sqrt{\\frac{S^2}{S_{xx}}}}\n",
    "\\end{equation*}\n",
    "\n",
    "donde S^2 es la varianza del error y se calcula como:\n",
    "\\begin{equation*}\n",
    "    S^2 = \\frac{SCE}{n-2}\n",
    "\\end{equation*}"
   ]
  },
  {
   "cell_type": "code",
   "execution_count": 316,
   "metadata": {},
   "outputs": [],
   "source": [
    "def estadistico_t(x, y):\n",
    "    b0 = coeficiente_interseccion(x, y)\n",
    "    b1 = coeficiente_pendiente(x, y)\n",
    "    sce = np.sum((y - (b0 + b1 * x))**2)\n",
    "    S = np.sqrt(sce / (x.shape[0] - 2))\n",
    "    S_xx = np.sum((x - x.mean())**2)\n",
    "    t = b1 / np.sqrt(S**2 / S_xx)\n",
    "\n",
    "    return t\n",
    "\n",
    "# Calculamos el estadistico de prueba\n",
    "t = estadistico_t(df[max_correlacion], df['quality'])\n",
    "t_student = stats.t.ppf(0.999, n - 2)\n",
    "\n",
    "# prueba de hipotesis abs(t) > t_student"
   ]
  },
  {
   "cell_type": "code",
   "execution_count": 317,
   "metadata": {},
   "outputs": [
    {
     "name": "stdout",
     "output_type": "stream",
     "text": [
      "El maximo coeficiente de correlacion lineal es: alcohol con 0.4366862682799704\n",
      "No existe una correlacion lineal significativa\n",
      "El coeficiente de determinacion es:  0.19069489690428598 por lo que el 19.07 % de la variacion de la variable Y es explicada por la variable X\n",
      "estadistico de prueba:  32.5 estadistico de prueba de student:  3.09\n",
      "Se rechaza la hipotesis nula H0: β1 = 0 y concluimos que existe una relacion significativa entre las variables X y Y\n"
     ]
    },
    {
     "data": {
      "image/png": "[encoded data removed]",
      "text/plain": [
       "<Figure size 640x480 with 1 Axes>"
      ]
     },
     "metadata": {},
     "output_type": "display_data"
    }
   ],
   "source": [
    "# Mostramos los datos adquiridos\n",
    "print('El maximo coeficiente de correlacion lineal es:', max_correlacion, 'con', max_valor_correlacion, )\n",
    "if max_valor_correlacion > 0.5:\n",
    "    print('Existe una correlacion lineal significativa')\n",
    "else:\n",
    "    print('No existe una correlacion lineal significativa')\n",
    "print('El coeficiente de determinacion es: ', r2, 'por lo que el', round(r2 * 100, 2), '% de la variacion de la variable Y es explicada por la variable X')\n",
    "print(\"estadistico de prueba: \", round(t, 2), \"estadistico de prueba de student: \", round(t_student, 2))\n",
    "if abs(t) > t_student:\n",
    "    print(\"Se rechaza la hipotesis nula H0: β1 = 0 y concluimos que existe una relacion significativa entre las variables X y Y\")\n",
    "else:\n",
    "    print('No se rechaza la hipotesis nula H0: β1 = 0 y concluimos que no existe una relacion significativa entre las variables X y Y')\n",
    "\n",
    "# Graficamos la regresion lineal\n",
    "plt.scatter(df[max_correlacion], df['quality'], alpha=0.5)\n",
    "plt.plot(df[max_correlacion], b0 + b1 * df[max_correlacion], 'r')\n",
    "plt.xlabel(max_correlacion)\n",
    "plt.ylabel('quality')\n",
    "plt.title('Regresion lineal entre quality y alcohol')\n",
    "plt.show()"
   ]
  },
  {
   "cell_type": "code",
   "execution_count": 318,
   "metadata": {},
   "outputs": [],
   "source": [
    "# Una vez realizadas las pruebas, por simplicidad definimos todas las variables de calculo imporantes\n",
    "\n",
    "# b0 = coeficiente_interseccion(x, y)\n",
    "# b1 = coeficiente_pendiente(x, y)\n",
    "# r2 = coeficiente_determinacion(y, y_pred)\n",
    "# n = df.shape[0]\n",
    "# m = df.shape[1]\n",
    "y_pred = b0 + b1 * df[max_correlacion]\n",
    "SCE = np.sum((df[\"quality\"] - y_pred)**2)\n",
    "S = np.sqrt(SCE / (n - 2))\n",
    "S_xx = np.sum((df[max_correlacion] - df[max_correlacion].mean())**2)\n",
    "S_yy = np.sum((df[\"quality\"] - df[\"quality\"].mean())**2)\n",
    "S_xy = np.sum((df[max_correlacion] - df[max_correlacion].mean()) * (df[\"quality\"] - df[\"quality\"].mean()))\n",
    "r = S_xy / np.sqrt(S_xx * S_yy)\n",
    "# t = b1 / np.sqrt(S**2 / S_xx)\n",
    "# t_student = stats.t.ppf(0.975, n - 2)"
   ]
  },
  {
   "cell_type": "markdown",
   "metadata": {},
   "source": [
    "i) Las inferencias sobre los parámetros de la recta que estimen las fluctuaciones de las mismas, con una\n",
    "confianza del 95%\n"
   ]
  },
  {
   "cell_type": "markdown",
   "metadata": {},
   "source": [
    "Para realizar inferencias sobre los parámetros de la recta de regresión que estiman las fluctuaciones, con un nivel de confianza del 95%, debemos calcular intervalos de confianza para los coeficientes de la regresión lineal, es decir, para la interseccion b0 y la pendiente b1.\n",
    "\n",
    "El intervalo de confianza del 95% para un coeficiente se calcula utilizando el valor crítico de la distribución t de Student que corresponde al nivel de confianza y los grados de libertad n-2 y la desviación estándar de los errores estándar de los coeficientes de regresión.\n",
    "\n",
    "\\begin{equation*}\n",
    "    IC(\\beta_1) = \\beta_1 \\pm t_{\\alpha/2,n-2} \\sqrt{\\frac{S^2}{S_{xx}}}\n",
    "\\end{equation*}\n",
    "\n",
    "\\begin{equation*}\n",
    "    IC(\\beta_0) = \\beta_0 \\pm t_{\\alpha/2,n-2} \\sqrt{S^2(\\frac{1}{n} + \\frac{\\bar{x}^2}{S_{xx}})}\n",
    "\\end{equation*}"
   ]
  },
  {
   "cell_type": "code",
   "execution_count": 319,
   "metadata": {},
   "outputs": [
    {
     "name": "stdout",
     "output_type": "stream",
     "text": [
      "El intervalo de confianza para la pendiente es:  (0.2756139293228249, 0.34222381959219195)\n",
      "El intervalo de confianza para la ordenada en el origen es:  (2.342084440035451, 2.9656194238464564)\n"
     ]
    }
   ],
   "source": [
    "a = 0.05\n",
    "\n",
    "# Calculamos el intervalo de confianza para la pendiente\n",
    "def intervalo_confianza_pendiente():\n",
    "    return b1 - t_student * np.sqrt(S / S_xx), b1 + t_student * np.sqrt(S / S_xx)\n",
    "\n",
    "# Calculamos el intervalo de confianza para la ordenada en el origen\n",
    "def intervalo_confianza_ordenada():\n",
    "    return b0 - t_student * S * np.sqrt(1 / n + df[max_correlacion].mean()**2 / S_xx), b0 + t_student * S * np.sqrt(1 / n + df[max_correlacion].mean()**2 / S_xx)\n",
    "\n",
    "print('El intervalo de confianza para la pendiente es: ', intervalo_confianza_pendiente())\n",
    "print('El intervalo de confianza para la ordenada en el origen es: ', intervalo_confianza_ordenada())"
   ]
  },
  {
   "cell_type": "markdown",
   "metadata": {},
   "source": [
    "ii) La proporción de veces que supera la incertidumbre de la predicción de la calidad a la de respuesta media\n",
    "de calidad para una característica fija, siendo ambas de la misma confianza y ancho mínimo.\n"
   ]
  },
  {
   "cell_type": "code",
   "execution_count": 341,
   "metadata": {},
   "outputs": [
    {
     "name": "stdout",
     "output_type": "stream",
     "text": [
      "(5.908203791831041, 5.909856408837855)\n",
      "(5.85368593314211, 5.964374267526786)\n",
      "0.11068833438467607 0.0016526170068136281\n",
      "La proporcion de vinos de calidad 7 es:  66.97760819858173\n"
     ]
    }
   ],
   "source": [
    "def calcular_proporcion(caracteristica, confianza):\n",
    "    S_xx = np.sum((df[caracteristica] - df[caracteristica].mean())**2)\n",
    "    b0 = coeficiente_interseccion(df[caracteristica], df['quality'])\n",
    "    b1 = coeficiente_pendiente(df[caracteristica], df['quality'])\n",
    "    SCE = np.sum((df[\"quality\"] - (b0 + b1 * df[caracteristica]))**2)\n",
    "    S = np.sqrt(SCE / (n - 2))\n",
    "    t_student = stats.t.ppf(1 - confianza / 2, n - 2)\n",
    "    media = df[caracteristica].mean()\n",
    "\n",
    "    intervalo_confianza = (b0 + b1 * media - t_student * np.sqrt(S * (1 / n + (media - media)**2 / S_xx)), b0 + b1 * media + t_student * np.sqrt(S * (1 / n + (media - media)**2 / S_xx)))\n",
    "    intervalo_prediccion = (b0 + b1 * media - t_student * np.sqrt(S * (1 + 1 / n + (media - media)**2 / S_xx)), b0 + b1 * media + t_student * np.sqrt(S * (1 + 1 / n + (media - media)**2 / S_xx)))\n",
    "    \n",
    "    proporcion = (intervalo_prediccion[1] - intervalo_prediccion[0]) / (intervalo_confianza[1] - intervalo_confianza[0])\n",
    "    return proporcion\n",
    "\n",
    "# Calculamos la proporcion de vinos de calidad\n",
    "# Falta arreglar el calculo de la proporcion\n",
    "confianza = 0.95\n",
    "proporcion = calcular_proporcion(max_correlacion, confianza)\n",
    "print('La proporcion de vinos de calidad 7 es: ', proporcion)\n"
   ]
  },
  {
   "cell_type": "code",
   "execution_count": null,
   "metadata": {},
   "outputs": [
    {
     "name": "stdout",
     "output_type": "stream",
     "text": [
      "La proporción es 0.0009165902841429881\n"
     ]
    }
   ],
   "source": [
    "import numpy as np\n",
    "import pandas as pd\n",
    "from scipy import stats\n",
    "import matplotlib.pyplot as plt\n",
    "\n",
    "def calcular_proporcion(df, caracteristica, confianza=0.95):\n",
    "    # Calcular la media y la desviación estándar\n",
    "    media = df[caracteristica].mean()\n",
    "    std = df[caracteristica].std()\n",
    "\n",
    "    # Calcular el intervalo de confianza\n",
    "    ci = stats.norm.interval(confianza, loc=media, scale=std)\n",
    "\n",
    "    # Calcular el intervalo de predicción\n",
    "    pi = stats.norm.interval(confianza, loc=media, scale=std/np.sqrt(len(df)))\n",
    "\n",
    "    # Calcular la proporción de veces que el intervalo de predicción supera al de confianza\n",
    "    proporcion = np.sum((df[caracteristica] > pi[0]) & (df[caracteristica] < pi[1])) / np.sum((df[caracteristica] > ci[0]) & (df[caracteristica] < ci[1]))\n",
    "\n",
    "    return proporcion\n",
    "\n",
    "# Ejemplo de uso:\n",
    "proporcion = calcular_proporcion(df, \"alcohol\")\n",
    "print(f'La proporción es {proporcion}')\n"
   ]
  },
  {
   "cell_type": "markdown",
   "metadata": {},
   "source": [
    "b) Una ecuación para predecir la calidad del vino a partir de las características.\n",
    "\n",
    "i) Usando el método de mínimos cuadrados. Con sus respectivos indicadores y una breve explicación de\n",
    "estas."
   ]
  },
  {
   "cell_type": "markdown",
   "metadata": {},
   "source": [
    "El objetivo es encontrar una ecuación que relacione la variable dependiente (calidad del vino) con las variables independientes (características del vino) de forma lineal, es decir, que tenga la forma:\n",
    "\\begin{equation*}\n",
    "    y = \\beta_0 + \\beta_1 x_1 + \\beta_2 x_2 + ... + \\beta_n x_n\n",
    "\\end{equation*}\n",
    "\n",
    "donde y es la calidad del vino, xi​ son las características del vino y βi​ son los coeficientes que queremos estimar."
   ]
  },
  {
   "cell_type": "markdown",
   "metadata": {},
   "source": [
    "para resolver este problema, podemos usar álgebra lineal y expresar la ecuación para minimizar una funcioon de error en forma matricial como\n",
    "\n",
    "\\begin{equation*}\n",
    "    Y = X\\beta\n",
    "\\end{equation*}\n",
    "\n",
    "donde y es el vector de las calidades del vino, X es la matriz de las características del vino y β es el vector de los coeficientes"
   ]
  },
  {
   "cell_type": "markdown",
   "metadata": {},
   "source": [
    "Despejando, la solucion del sistema para encontrar los estimadores de los coeficiente sera:\n",
    "\\begin{equation*}\n",
    "    \\beta = X^{-1}Y\n",
    "\\end{equation*}\n",
    "\n",
    "Una vez que tenemos los coeficientes estimados, podemos usarlos para predecir la calidad del vino para cualquier conjunto de características, usando la ecuación expresada en la funcion prediccion_multiple(vector)\n",
    "\\begin{equation*}\n",
    "    y^​ = \\beta_0 + \\beta_1 x_1 + \\beta_2 x_2 + ... + \\beta_n x_n\n",
    "\\end{equation*}"
   ]
  },
  {
   "cell_type": "code",
   "execution_count": null,
   "metadata": {},
   "outputs": [],
   "source": [
    "def vector_y():\n",
    "    arr = []\n",
    "    for i in df.columns:\n",
    "        if i == \"quality\":\n",
    "            arr.append(np.sum(df[i].values))\n",
    "        else:\n",
    "            arr.append(np.sum(df[i].values * df[\"quality\"].values))\n",
    "    return np.array(arr)\n",
    "\n",
    "def matriz_x():\n",
    "    matriz = []\n",
    "    for i in df.columns:\n",
    "        arr = []\n",
    "        for j in df.columns:\n",
    "            if i == \"quality\" and j == \"quality\":\n",
    "                arr.append(len(df))\n",
    "            elif i == \"quality\":\n",
    "                arr.append(np.sum(df[j]))\n",
    "            elif j == \"quality\":\n",
    "                arr.append(np.sum(df[i]))\n",
    "            else:\n",
    "                arr.append(np.dot(df[i], df[j]))\n",
    "        matriz.append(arr)\n",
    "    return np.array(matriz)\n",
    "        \n",
    "\n",
    "Y = vector_y()\n",
    "X = matriz_x()\n",
    "b = np.linalg.inv(X).dot(Y)\n",
    "\n",
    "def prediccion_multiple(b_vector):\n",
    "    y_multiple = b[0]\n",
    "    for i in range(1, m):\n",
    "        y_multiple += b[i] * b_vector[i]\n",
    "    return y_multiple\n"
   ]
  },
  {
   "cell_type": "markdown",
   "metadata": {},
   "source": [
    "ii) Usando el método del descenso del gradiente. Mostrar los resultados obtenidos junto con las últimas\n",
    "iteraciones del algoritmo Indicar los valores de los parámetros utilizados."
   ]
  },
  {
   "cell_type": "code",
   "execution_count": null,
   "metadata": {},
   "outputs": [
    {
     "name": "stdout",
     "output_type": "stream",
     "text": [
      "0.0022745379780796794 [ 0.05157473  0.03974958  0.32881505  0.00797493 -0.24579832  0.14474932\n",
      "  0.4128874 ]\n"
     ]
    },
    {
     "data": {
      "image/png": "[encoded data removed]",
      "text/plain": [
       "<Figure size 640x480 with 1 Axes>"
      ]
     },
     "metadata": {},
     "output_type": "display_data"
    }
   ],
   "source": [
    "X = df.drop(\"quality\", axis=1).values # matriz de características\n",
    "y = df[\"quality\"].values # vector de calidad\n",
    "\n",
    "# Normalizamos\n",
    "y = (y - y.mean()) / y.std()\n",
    "#for i in range(X.shape[1]):\n",
    " #   X[:, i] = (X[:, i] - X[:, i].mean()) / X[:, i].std()\n",
    "for column in X.T:\n",
    "    column -= column.mean()\n",
    "    column /= column.std()\n",
    "\n",
    "# Inicialización de coeficientes\n",
    "b = random.random()\n",
    "w = np.random.rand(m)\n",
    "\n",
    "a = 0.001 #tasa de aprendizaje\n",
    "max_iter = 5000 #número máximo de iteraciones\n",
    "tolerancia = 1e-6 #tolerancia para la condición de parada\n",
    "\n",
    "# Función para calcular el costo 1/n * SCE\n",
    "def error_cuadratico_medio(y, y_pred):\n",
    "    y_residual = y - y_pred\n",
    "    return np.sum(y_residual**2) / (2 * len(y_residual))\n",
    "\n",
    "# Actualización de coeficientes usando descenso del gradiente\n",
    "def actualizar_coeficientes(y_pred, b_0, w_0):\n",
    "    db = np.sum(y_pred - y) / len(y)\n",
    "    dw = (np.dot((y_pred - y), X) / len(y))\n",
    "    b_1 = b_0 - a * db\n",
    "    w_1 = w_0 - a * dw\n",
    "    return b_1, w_1\n",
    "\n",
    "# Función para ejecutar el descenso del gradiente\n",
    "iteraciones = pd.DataFrame(columns=['iteracion', 'costo'])\n",
    "result_idx = 0\n",
    "costo_previo = float('inf')\n",
    "iter_act = 0\n",
    "\n",
    "while iter_act < max_iter:\n",
    "    # La ecuación de predicción para la calidad del vino a partir de las características\n",
    "    y_pred = b + np.dot(X, w)\n",
    "    \n",
    "    costo_act = error_cuadratico_medio(y, y_pred)\n",
    "    b_previo = b\n",
    "    w_previo = w\n",
    "    b, w = actualizar_coeficientes(y_pred, b_previo, w_previo)\n",
    "    if iter_act % 10 == 0:\n",
    "        iteraciones.loc[result_idx] = [iter_act, costo_act]\n",
    "        result_idx += 1\n",
    "    iter_act += 1\n",
    "    # Condición de corte basada en la diferencia de costo\n",
    "    if abs(costo_previo - costo_act) < tolerancia:\n",
    "        print(f\"Se alcanzó la tolerancia en la iteración {iter_act}\")\n",
    "        break\n",
    "    costo_previo = costo_act\n",
    "\n",
    "print(b, w)\n",
    "# Graficar la evolución del costo\n",
    "plt.plot(iteraciones['iteracion'], iteraciones['costo'], label=\"alfa=0.001\")\n",
    "plt.legend()\n",
    "plt.ylabel('Costo')\n",
    "plt.xlabel('Número de iteraciones')\n",
    "plt.title('Costo Vs. Iteraciones para alpha=0.001')\n",
    "plt.show()"
   ]
  },
  {
   "cell_type": "markdown",
   "metadata": {},
   "source": [
    "¿Estos valores son exactos como los que se consiguen con la resolución del sistema de ecuaciones normales?\n",
    "\n",
    "No, los valores obtenidos mediante el método del descenso del gradiente generalmente no son exactamente iguales a los que se obtienen mediante la resolución del sistema de ecuaciones normales. El método del descenso del gradiente es un enfoque iterativo que busca minimizar la función de costo, mientras que la resolución del sistema de ecuaciones normales proporciona una solución directa. Las diferencias pueden deberse a la convergencia del algoritmo, la tasa de aprendizaje y otros factores.\n",
    "\n",
    "Dar una interpretación del criterio de corte particular considerado en el algoritmo y explicar si presenta alguna falla.\n",
    "\n",
    "El criterio de corte utilizado en el algoritmo es la diferencia absoluta entre el costo actual y el costo previo \n",
    "\n",
    "∣). El algoritmo se detiene cuando esta diferencia es menor que la tolerancia especificada. Este criterio de corte es una forma común de determinar la convergencia del algoritmo.\n",
    "\n",
    "Sin embargo, el criterio de corte basado en la diferencia de costo puede presentar algunos desafíos. En casos en los que la función de costo es ruidosa o tiene múltiples mínimos locales, el algoritmo puede detenerse prematuramente o tardar más en converger. Además, la elección de la tolerancia (\n",
    "tolerancia\n",
    "tolerancia) puede afectar la velocidad de convergencia y la precisión del algoritmo.\n",
    "\n",
    "\n",
    "En caso de no ser una buena condición de corte, ¿podría sugerir algún criterio alternativo más eficaz?\n",
    "\n",
    "Un criterio alternativo más eficaz para el corte podría ser monitorear el cambio relativo en los coeficientes en lugar del cambio en el costo. Por ejemplo, puedes calcular la norma del cambio relativo de los coeficientes y detener el algoritmo cuando esta norma sea menor que una cierta tolerancia. Esto puede ser más robusto y eficaz en algunos casos.\n",
    "\n",
    "Aquí tienes un ejemplo de cómo podrías implementar este criterio alternativo:\n",
    "Este criterio considera la estabilidad de los coeficientes y puede ser más adecuado en casos en los que la convergencia sea más difícil de determinar utilizando solo la diferencia en el costo."
   ]
  },
  {
   "cell_type": "code",
   "execution_count": null,
   "metadata": {},
   "outputs": [],
   "source": [
    "# Calcular la norma del cambio relativo en los coeficientes\n",
    "cambio_coefs = np.linalg.norm(w - w_previo) / np.linalg.norm(w_previo)\n",
    "\n",
    "# Criterio de corte basado en el cambio relativo en los coeficientes\n",
    "if cambio_coefs < tolerancia:\n",
    "    print(f\"Se alcanzó la tolerancia en la iteración {iter_act}\")"
   ]
  },
  {
   "cell_type": "markdown",
   "metadata": {},
   "source": [
    "iii) El método del gradiente, ¿siempre converge al mínimo de la función? Explicar o dar un contraejemplo.\n",
    "\n",
    "El método del gradiente es un algoritmo que funciona iterativamente, moviéndose en la dirección del gradiente negativo de la función en cada paso acercandose al mínimo de la función. Si la función es convexa, el algoritmo converge al mínimo global. Sin embargo, si la función no es convexa y se tienen valores iniciales no adecuados, el algoritmo puede converger a un mínimo local o a un punto de silla.\n",
    "\n",
    "un punto de silla es un punto en el que el gradiente es cero, pero no es un mínimo local. En este caso, el algoritmo puede detenerse prematuramente, ya que no hay un gradiente negativo que indique la dirección de descenso.\n",
    "\n",
    "un minimo local es un punto en el que el gradiente es cero y es menor que el gradiente en todos los puntos vecinos. En este caso, el algoritmo puede detenerse prematuramente, ya que no hay un gradiente negativo que indique la dirección de descenso."
   ]
  },
  {
   "cell_type": "code",
   "execution_count": null,
   "metadata": {},
   "outputs": [
    {
     "data": {
      "image/png": "[encoded data removed]",
      "text/plain": [
       "<Figure size 800x600 with 1 Axes>"
      ]
     },
     "metadata": {},
     "output_type": "display_data"
    }
   ],
   "source": [
    "import numpy as np\n",
    "import matplotlib.pyplot as plt\n",
    "\n",
    "# Definir la función y sus puntos críticos\n",
    "f = lambda x: x**4 - x**3 - x**2\n",
    "x = np.linspace(-1.5, 1.5, 400)\n",
    "y = f(x)\n",
    "\n",
    "# Puntos críticos\n",
    "min_local = -0.42539\n",
    "min_global = 1.17539\n",
    "punto_silla = 0\n",
    "\n",
    "# Crear el gráfico\n",
    "plt.figure(figsize=(8, 6))\n",
    "plt.plot(x, y, label=\"f(x) = x^4 - x^2\")\n",
    "plt.scatter([min_local, min_global], [f(min_local), f(min_global)], color='red') # mínimos\n",
    "plt.scatter([punto_silla], [f(punto_silla)], color='blue') # punto de silla\n",
    "plt.text(min_local, f(min_local), 'Mínimo local', fontsize=12, ha='right')\n",
    "plt.text(min_global, f(min_global), 'Mínimo global', fontsize=12, ha='right')\n",
    "plt.text(punto_silla, f(punto_silla), 'Punto de silla', fontsize=12, ha='left')\n",
    "plt.legend()\n",
    "plt.grid(True)\n",
    "plt.title('Gráfico de la función f(x) = x^(4)-x^(3)-x^(2)')\n",
    "plt.xlabel('x')\n",
    "plt.ylabel('f(x)')\n",
    "plt.show()\n"
   ]
  }
 ],
 "metadata": {
  "kernelspec": {
   "display_name": "Python 3 (ipykernel)",
   "language": "python",
   "name": "python3"
  },
  "language_info": {
   "codemirror_mode": {
    "name": "ipython",
    "version": 3
   },
   "file_extension": ".py",
   "mimetype": "text/x-python",
   "name": "python",
   "nbconvert_exporter": "python",
   "pygments_lexer": "ipython3",
   "version": "3.8.10"
  }
 },
 "nbformat": 4,
 "nbformat_minor": 4
}
